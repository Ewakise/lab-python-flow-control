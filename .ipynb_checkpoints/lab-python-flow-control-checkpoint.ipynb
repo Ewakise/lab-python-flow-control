{
 "cells": [
  {
   "cell_type": "markdown",
   "id": "d3bfc191-8885-42ee-b0a0-bbab867c6f9f",
   "metadata": {
    "tags": []
   },
   "source": [
    "# Lab | Flow Control"
   ]
  },
  {
   "cell_type": "markdown",
   "id": "3851fcd1-cf98-4653-9c89-e003b7ec9400",
   "metadata": {},
   "source": [
    "## Exercise: Managing Customer Orders Optimized\n",
    "\n",
    "In the last lab, you were starting an online store that sells various products. To ensure smooth operations, you developed a program that manages customer orders and inventory.\n",
    "\n",
    "You did so without using flow control. Let's go a step further and improve this code.\n",
    "\n",
    "Follow the steps below to complete the exercise:\n",
    "\n",
    "1. Look at your code from the lab data structures, and improve repeated code with loops.\n",
    "\n",
    "2. Instead of asking the user to input the name of three products that a customer wants to order, do the following:\n",
    "    \n",
    "    a. Prompt the user to enter the name of a product that a customer wants to order.\n",
    "    \n",
    "    b. Add the product name to the \"customer_orders\" set.\n",
    "    \n",
    "    c. Ask the user if they want to add another product (yes/no).\n",
    "    \n",
    "    d. Continue the loop until the user does not want to add another product.\n",
    "\n",
    "3. Instead of updating the inventory by subtracting 1 from the quantity of each product, only do it for  the products that were ordered (those in \"customer_orders\")."
   ]
  },
  {
   "cell_type": "code",
   "execution_count": null,
   "id": "b261b3d1-d3e7-4f56-b3e1-a39e4390bec6",
   "metadata": {},
   "outputs": [],
   "source": [
    "# Step 1: Set up product list and empty inventory\n",
    "products = [\"t-shirt\", \"mug\", \"hat\", \"book\", \"keychain\"]\n",
    "inventory = {}\n",
    "\n",
    "print(\"Enter the quantity for each product:\")\n",
    "\n",
    "for product in products:\n",
    "    quantity = int(input(f\"Enter number of {product}: \"))\n",
    "    inventory[product] = quantity\n",
    "\n",
    "# Step 2: Customer order input loop\n",
    "customer_orders = set()\n",
    "\n",
    "print(\"Available products:\", products)\n",
    "\n",
    "while True:\n",
    "    # a. Prompt user to enter a product\n",
    "    product = input(\"\\nEnter the name of a product to order: \").strip().lower()\n",
    "    \n",
    "    # b. Add to customer_orders if valid\n",
    "    if product in products:\n",
    "        customer_orders.add(product)\n",
    "        print(f\"{product} added to your order.\")\n",
    "    else:\n",
    "        print(\"❌ Invalid product. Please choose from the list.\")\n",
    "\n",
    "    # c. Ask if user wants to continue\n",
    "    another = input(\"Do you want to add another product? (yes/no): \").strip().lower()\n",
    "\n",
    "    # d. Stop if user says no\n",
    "    if another != \"yes\":\n",
    "        break\n",
    "\n",
    "# Step 3: Update inventory only for ordered products\n",
    "print(\"Updating inventory...\")\n",
    "for product in customer_orders:\n",
    "    if inventory[product] > 0:\n",
    "        inventory[product] -= 1\n",
    "        print(f\"{product}: now {inventory[product]} left in stock.\")\n",
    "    else:\n",
    "        print(f\"{product} is out of stock and couldn't be fulfilled.\")\n",
    "\n",
    "# Step 4: Show final summary\n",
    "print(\"Order Summary:\")\n",
    "for item in customer_orders:\n",
    "    print(\"-\", item)\n",
    "\n",
    "print(\"Updated Inventory:\")\n",
    "for product in products:\n",
    "    print(f\"{product}: {inventory[product]}\")\n"
   ]
  }
 ],
 "metadata": {
  "kernelspec": {
   "display_name": "Python [conda env:.ipython]",
   "language": "python",
   "name": "conda-env-.ipython-py"
  },
  "language_info": {
   "codemirror_mode": {
    "name": "ipython",
    "version": 3
   },
   "file_extension": ".py",
   "mimetype": "text/x-python",
   "name": "python",
   "nbconvert_exporter": "python",
   "pygments_lexer": "ipython3",
   "version": "3.12.7"
  }
 },
 "nbformat": 4,
 "nbformat_minor": 5
}
